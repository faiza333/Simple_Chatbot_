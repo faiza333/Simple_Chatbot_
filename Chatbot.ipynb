{
  "nbformat": 4,
  "nbformat_minor": 0,
  "metadata": {
    "colab": {
      "provenance": [],
      "authorship_tag": "ABX9TyNYSfOs2pHWjbcO9VGpGs0t",
      "include_colab_link": true
    },
    "kernelspec": {
      "name": "python3",
      "display_name": "Python 3"
    },
    "language_info": {
      "name": "python"
    }
  },
  "cells": [
    {
      "cell_type": "markdown",
      "metadata": {
        "id": "view-in-github",
        "colab_type": "text"
      },
      "source": [
        "<a href=\"https://colab.research.google.com/github/faiza333/Simple_Chatbot_/blob/main/Chatbot.ipynb\" target=\"_parent\"><img src=\"https://colab.research.google.com/assets/colab-badge.svg\" alt=\"Open In Colab\"/></a>"
      ]
    },
    {
      "cell_type": "code",
      "execution_count": 27,
      "metadata": {
        "colab": {
          "base_uri": "https://localhost:8080/"
        },
        "id": "KxpanCfXtZm8",
        "outputId": "a15a372a-304a-47d7-8c99-2669ee873f5c"
      },
      "outputs": [
        {
          "output_type": "stream",
          "name": "stdout",
          "text": [
            "2022-09-07 11:51:08.559645: E tensorflow/stream_executor/cuda/cuda_driver.cc:271] failed call to cuInit: CUDA_ERROR_NO_DEVICE: no CUDA-capable device is detected\n",
            "Looking in indexes: https://pypi.org/simple, https://us-python.pkg.dev/colab-wheels/public/simple/\n",
            "Collecting en-core-web-lg==3.4.0\n",
            "  Downloading https://github.com/explosion/spacy-models/releases/download/en_core_web_lg-3.4.0/en_core_web_lg-3.4.0-py3-none-any.whl (587.7 MB)\n",
            "\u001b[K     |████████████████████████████████| 587.7 MB 8.6 kB/s \n",
            "\u001b[?25hRequirement already satisfied: spacy<3.5.0,>=3.4.0 in /usr/local/lib/python3.7/dist-packages (from en-core-web-lg==3.4.0) (3.4.1)\n",
            "Requirement already satisfied: murmurhash<1.1.0,>=0.28.0 in /usr/local/lib/python3.7/dist-packages (from spacy<3.5.0,>=3.4.0->en-core-web-lg==3.4.0) (1.0.8)\n",
            "Requirement already satisfied: typer<0.5.0,>=0.3.0 in /usr/local/lib/python3.7/dist-packages (from spacy<3.5.0,>=3.4.0->en-core-web-lg==3.4.0) (0.4.2)\n",
            "Requirement already satisfied: typing-extensions<4.2.0,>=3.7.4 in /usr/local/lib/python3.7/dist-packages (from spacy<3.5.0,>=3.4.0->en-core-web-lg==3.4.0) (4.1.1)\n",
            "Requirement already satisfied: langcodes<4.0.0,>=3.2.0 in /usr/local/lib/python3.7/dist-packages (from spacy<3.5.0,>=3.4.0->en-core-web-lg==3.4.0) (3.3.0)\n",
            "Requirement already satisfied: srsly<3.0.0,>=2.4.3 in /usr/local/lib/python3.7/dist-packages (from spacy<3.5.0,>=3.4.0->en-core-web-lg==3.4.0) (2.4.4)\n",
            "Requirement already satisfied: jinja2 in /usr/local/lib/python3.7/dist-packages (from spacy<3.5.0,>=3.4.0->en-core-web-lg==3.4.0) (2.11.3)\n",
            "Requirement already satisfied: numpy>=1.15.0 in /usr/local/lib/python3.7/dist-packages (from spacy<3.5.0,>=3.4.0->en-core-web-lg==3.4.0) (1.21.6)\n",
            "Requirement already satisfied: pathy>=0.3.5 in /usr/local/lib/python3.7/dist-packages (from spacy<3.5.0,>=3.4.0->en-core-web-lg==3.4.0) (0.6.2)\n",
            "Requirement already satisfied: tqdm<5.0.0,>=4.38.0 in /usr/local/lib/python3.7/dist-packages (from spacy<3.5.0,>=3.4.0->en-core-web-lg==3.4.0) (4.64.0)\n",
            "Requirement already satisfied: preshed<3.1.0,>=3.0.2 in /usr/local/lib/python3.7/dist-packages (from spacy<3.5.0,>=3.4.0->en-core-web-lg==3.4.0) (3.0.7)\n",
            "Requirement already satisfied: thinc<8.2.0,>=8.1.0 in /usr/local/lib/python3.7/dist-packages (from spacy<3.5.0,>=3.4.0->en-core-web-lg==3.4.0) (8.1.0)\n",
            "Requirement already satisfied: cymem<2.1.0,>=2.0.2 in /usr/local/lib/python3.7/dist-packages (from spacy<3.5.0,>=3.4.0->en-core-web-lg==3.4.0) (2.0.6)\n",
            "Requirement already satisfied: spacy-legacy<3.1.0,>=3.0.9 in /usr/local/lib/python3.7/dist-packages (from spacy<3.5.0,>=3.4.0->en-core-web-lg==3.4.0) (3.0.10)\n",
            "Requirement already satisfied: wasabi<1.1.0,>=0.9.1 in /usr/local/lib/python3.7/dist-packages (from spacy<3.5.0,>=3.4.0->en-core-web-lg==3.4.0) (0.10.1)\n",
            "Requirement already satisfied: pydantic!=1.8,!=1.8.1,<1.10.0,>=1.7.4 in /usr/local/lib/python3.7/dist-packages (from spacy<3.5.0,>=3.4.0->en-core-web-lg==3.4.0) (1.9.2)\n",
            "Requirement already satisfied: catalogue<2.1.0,>=2.0.6 in /usr/local/lib/python3.7/dist-packages (from spacy<3.5.0,>=3.4.0->en-core-web-lg==3.4.0) (2.0.8)\n",
            "Requirement already satisfied: packaging>=20.0 in /usr/local/lib/python3.7/dist-packages (from spacy<3.5.0,>=3.4.0->en-core-web-lg==3.4.0) (21.3)\n",
            "Requirement already satisfied: setuptools in /usr/local/lib/python3.7/dist-packages (from spacy<3.5.0,>=3.4.0->en-core-web-lg==3.4.0) (57.4.0)\n",
            "Requirement already satisfied: spacy-loggers<2.0.0,>=1.0.0 in /usr/local/lib/python3.7/dist-packages (from spacy<3.5.0,>=3.4.0->en-core-web-lg==3.4.0) (1.0.3)\n",
            "Requirement already satisfied: requests<3.0.0,>=2.13.0 in /usr/local/lib/python3.7/dist-packages (from spacy<3.5.0,>=3.4.0->en-core-web-lg==3.4.0) (2.23.0)\n",
            "Requirement already satisfied: zipp>=0.5 in /usr/local/lib/python3.7/dist-packages (from catalogue<2.1.0,>=2.0.6->spacy<3.5.0,>=3.4.0->en-core-web-lg==3.4.0) (3.8.1)\n",
            "Requirement already satisfied: pyparsing!=3.0.5,>=2.0.2 in /usr/local/lib/python3.7/dist-packages (from packaging>=20.0->spacy<3.5.0,>=3.4.0->en-core-web-lg==3.4.0) (3.0.9)\n",
            "Requirement already satisfied: smart-open<6.0.0,>=5.2.1 in /usr/local/lib/python3.7/dist-packages (from pathy>=0.3.5->spacy<3.5.0,>=3.4.0->en-core-web-lg==3.4.0) (5.2.1)\n",
            "Requirement already satisfied: idna<3,>=2.5 in /usr/local/lib/python3.7/dist-packages (from requests<3.0.0,>=2.13.0->spacy<3.5.0,>=3.4.0->en-core-web-lg==3.4.0) (2.10)\n",
            "Requirement already satisfied: urllib3!=1.25.0,!=1.25.1,<1.26,>=1.21.1 in /usr/local/lib/python3.7/dist-packages (from requests<3.0.0,>=2.13.0->spacy<3.5.0,>=3.4.0->en-core-web-lg==3.4.0) (1.24.3)\n",
            "Requirement already satisfied: certifi>=2017.4.17 in /usr/local/lib/python3.7/dist-packages (from requests<3.0.0,>=2.13.0->spacy<3.5.0,>=3.4.0->en-core-web-lg==3.4.0) (2022.6.15)\n",
            "Requirement already satisfied: chardet<4,>=3.0.2 in /usr/local/lib/python3.7/dist-packages (from requests<3.0.0,>=2.13.0->spacy<3.5.0,>=3.4.0->en-core-web-lg==3.4.0) (3.0.4)\n",
            "Requirement already satisfied: blis<0.8.0,>=0.7.8 in /usr/local/lib/python3.7/dist-packages (from thinc<8.2.0,>=8.1.0->spacy<3.5.0,>=3.4.0->en-core-web-lg==3.4.0) (0.7.8)\n",
            "Requirement already satisfied: click<9.0.0,>=7.1.1 in /usr/local/lib/python3.7/dist-packages (from typer<0.5.0,>=0.3.0->spacy<3.5.0,>=3.4.0->en-core-web-lg==3.4.0) (7.1.2)\n",
            "Requirement already satisfied: MarkupSafe>=0.23 in /usr/local/lib/python3.7/dist-packages (from jinja2->spacy<3.5.0,>=3.4.0->en-core-web-lg==3.4.0) (2.0.1)\n",
            "\u001b[38;5;2m✔ Download and installation successful\u001b[0m\n",
            "You can now load the package via spacy.load('en_core_web_lg')\n"
          ]
        }
      ],
      "source": [
        "!python -m spacy download en_core_web_lg "
      ]
    },
    {
      "cell_type": "code",
      "source": [
        "import en_core_web_lg # Large SpaCy model for English language\n",
        "import numpy as np\n",
        "import re # regular expressions\n",
        "import spacy # NLU library\n",
        "\n",
        "from collections import defaultdict\n",
        "from sklearn.svm import SVC # Support Vector Classification model"
      ],
      "metadata": {
        "id": "MkUO_nKjnjGj"
      },
      "execution_count": 1,
      "outputs": []
    },
    {
      "cell_type": "code",
      "source": [
        "output_format = \"IN: {input}\\nOUT: {output}\\n\" + \"_\"*50"
      ],
      "metadata": {
        "id": "AfW2ICQEw2kd"
      },
      "execution_count": 2,
      "outputs": []
    },
    {
      "cell_type": "markdown",
      "source": [
        "# Exact Matches"
      ],
      "metadata": {
        "id": "rldlPOrZwpq-"
      }
    },
    {
      "cell_type": "code",
      "source": [
        "# hard-coded exact questions\n",
        "responses_exact = {\n",
        "    \"what would you like to eat tonight?\": \"Pasta with salmon and red pesto please!\",\n",
        "    \"what time will you be home tonight?\": \"I will be home around 6 pm.\",\n",
        "    \"default\": \"I love you too!\"\n",
        "}\n",
        "\n",
        "def respond_exact(text):\n",
        "    response = responses_exact.get(text.lower(), responses_exact['default'])\n",
        "    return(output_format.format(input=text, output=response))"
      ],
      "metadata": {
        "id": "IpY4vBeZth8f"
      },
      "execution_count": 3,
      "outputs": []
    },
    {
      "cell_type": "code",
      "source": [
        "print(respond_exact(\"What would you like to eat tonight?\"))\n",
        "print(\"_\"*50)\n",
        "print(respond_exact(\"What time will you be home tonight?\"))\n",
        "print(\"_\"*50)\n",
        "print(respond_exact(\"I just found out my boss is leaving the company.\"))"
      ],
      "metadata": {
        "colab": {
          "base_uri": "https://localhost:8080/"
        },
        "id": "AP8COpQ9vIMH",
        "outputId": "30715424-8586-4b77-ee1b-3fc9596306bd"
      },
      "execution_count": 4,
      "outputs": [
        {
          "output_type": "stream",
          "name": "stdout",
          "text": [
            "IN: What would you like to eat tonight?\n",
            "OUT: Pasta with salmon and red pesto please!\n",
            "__________________________________________________\n",
            "__________________________________________________\n",
            "IN: What time will you be home tonight?\n",
            "OUT: I will be home around 6 pm.\n",
            "__________________________________________________\n",
            "__________________________________________________\n",
            "IN: I just found out my boss is leaving the company.\n",
            "OUT: I love you too!\n",
            "__________________________________________________\n"
          ]
        }
      ]
    },
    {
      "cell_type": "markdown",
      "source": [
        "# Pattern Matching"
      ],
      "metadata": {
        "id": "YZA_swWUxdxw"
      }
    },
    {
      "cell_type": "markdown",
      "source": [
        "Simmply what happend here is:\n",
        "----\n",
        "- we have a dic with to category  \n",
        "- we try to create some patterns \n",
        "- create fun to specify the user input refere to which category\n",
        "- then we have the good answers \n",
        "- and feed the category for user sintance to a new function that work on getting the answer for the user sintance"
      ],
      "metadata": {
        "id": "NV8kV_zv7dpJ"
      }
    },
    {
      "cell_type": "code",
      "source": [
        "# Define keywords that can help determine the intent \n",
        "intent_keywords = {\n",
        "    'dinner_preference': ['eat', 'dinner', 'food', 'cook', 'craving'],\n",
        "    'arrival_time': ['time', 'when', 'get here', 'be home']\n",
        "}\n",
        "# Create a dictionary of patterns\n",
        "patterns = {intent: re.compile('|'.join(keys)) for intent, keys in intent_keywords.items()}"
      ],
      "metadata": {
        "id": "P8YRSqBhxA-T"
      },
      "execution_count": 5,
      "outputs": []
    },
    {
      "cell_type": "code",
      "source": [
        "x = ['|'.join(keys) for intent, keys in intent_keywords.items()]\n",
        "print(x)"
      ],
      "metadata": {
        "colab": {
          "base_uri": "https://localhost:8080/"
        },
        "id": "_JpsKRKC6iZP",
        "outputId": "deea86b1-9f8c-47b7-bbd8-14ee498b247c"
      },
      "execution_count": 6,
      "outputs": [
        {
          "output_type": "stream",
          "name": "stdout",
          "text": [
            "['eat|dinner|food|cook|craving', 'time|when|get here|be home']\n"
          ]
        }
      ]
    },
    {
      "cell_type": "code",
      "source": [
        "\n",
        "# Define a function to find the intent of a message\n",
        "def get_intent_re(message):\n",
        "    for intent, pattern in patterns.items():\n",
        "        # Check if the pattern occurs in the message \n",
        "        if pattern.search(message):\n",
        "            #print(intent)\n",
        "            return(intent)\n",
        "\n",
        "    else:\n",
        "        return('default')\n",
        "\n",
        "responses_re = {\n",
        "    \"dinner_preference\":\"Pasta with salmon and red pesto please!\",\n",
        "    \"arrival_time\": \"I will be home around 6 pm.\",\n",
        "    \"default\":\"I like you too!\"\n",
        "}\n",
        "\n",
        "def respond_re(text):\n",
        "    response = responses_re.get(get_intent_re(text))\n",
        "    return(output_format.format(input=text, output=response))"
      ],
      "metadata": {
        "id": "lUa17cCa31pI"
      },
      "execution_count": 7,
      "outputs": []
    },
    {
      "cell_type": "code",
      "source": [
        "print(respond_re(\"what would you like to eat tonight?\"))\n",
        "print(respond_re(\"what time will you be home tonight?\"))\n",
        "print(respond_re(\"I just food out my boss is leaving the company.\"))"
      ],
      "metadata": {
        "colab": {
          "base_uri": "https://localhost:8080/"
        },
        "id": "wgCAY7kA4hHD",
        "outputId": "c1034e66-28e5-44e8-a660-a6e607294e5a"
      },
      "execution_count": 8,
      "outputs": [
        {
          "output_type": "stream",
          "name": "stdout",
          "text": [
            "IN: what would you like to eat tonight?\n",
            "OUT: Pasta with salmon and red pesto please!\n",
            "__________________________________________________\n",
            "IN: what time will you be home tonight?\n",
            "OUT: I will be home around 6 pm.\n",
            "__________________________________________________\n",
            "IN: I just food out my boss is leaving the company.\n",
            "OUT: Pasta with salmon and red pesto please!\n",
            "__________________________________________________\n"
          ]
        }
      ]
    },
    {
      "cell_type": "markdown",
      "source": [
        "# Using real ML Model"
      ],
      "metadata": {
        "id": "qdzbzQP780rl"
      }
    },
    {
      "cell_type": "code",
      "source": [
        "# Create training data\n",
        "training_sentences = [\n",
        "    \"What would you like to have for dinner?\",\n",
        "    \"What do you want to eat tonight?\",\n",
        "    \"I don't know what to cook tonight.\",\n",
        "    \"Do you have any cravings?\",\n",
        "    \"Can I get you something to eat?\", \n",
        "    \"What time will you be home?\",\n",
        "    \"How much longer will you be?\",\n",
        "    \"When can we expect you to get here?\",\n",
        "    \"What's taking you so long?\",\n",
        "    \"At what hour will you be here?\"\n",
        "    \n",
        "]\n",
        "training_intents = [\n",
        "    \"dinner_preference\",\n",
        "    \"dinner_preference\",\n",
        "    \"dinner_preference\",\n",
        "    \"dinner_preference\",\n",
        "    \"dinner_preference\",\n",
        "    \"arrival_time\",\n",
        "    \"arrival_time\",\n",
        "    \"arrival_time\",\n",
        "    \"arrival_time\",\n",
        "    \"arrival_time\"   \n",
        "]"
      ],
      "metadata": {
        "id": "vE-rmrVcF1Yn"
      },
      "execution_count": 9,
      "outputs": []
    },
    {
      "cell_type": "code",
      "source": [
        "# this may take a couple of seconds\n",
        "nlp = en_core_web_lg.load()"
      ],
      "metadata": {
        "id": "TKx2RHQfF138"
      },
      "execution_count": 10,
      "outputs": []
    },
    {
      "cell_type": "code",
      "source": [
        "# Initialize the array with zeros: X\n",
        "X_train = np.zeros((len(training_sentences), \n",
        "              nlp('sentences').vocab.vectors_length))\n",
        "\n",
        "for i, sentence in enumerate(training_sentences):\n",
        "    # Pass each each sentence to the nlp object to create a document\n",
        "    doc = nlp(sentence)\n",
        "    # Save the document's .vector attribute to the corresponding row in X\n",
        "    X_train[i, :] = doc.vector"
      ],
      "metadata": {
        "id": "cBpWuJXrF4i7"
      },
      "execution_count": 11,
      "outputs": []
    },
    {
      "cell_type": "code",
      "source": [
        "# Create a support vector classifier\n",
        "clf = SVC(C=1, gamma=\"auto\", probability=True)\n",
        "\n",
        "# Fit the classifier using the training data\n",
        "clf.fit(X_train, training_intents)\n",
        "\n",
        "#Yes, a lot can be done here to check / improve model performance! We will leave that for another day!"
      ],
      "metadata": {
        "colab": {
          "base_uri": "https://localhost:8080/"
        },
        "id": "vK4svFMEF8Lb",
        "outputId": "5c24dd50-a0a1-4d8a-e134-e8d0ec497d9f"
      },
      "execution_count": 12,
      "outputs": [
        {
          "output_type": "execute_result",
          "data": {
            "text/plain": [
              "SVC(C=1, gamma='auto', probability=True)"
            ]
          },
          "metadata": {},
          "execution_count": 12
        }
      ]
    },
    {
      "cell_type": "code",
      "source": [
        "def get_intent_ml(text):\n",
        "    doc = nlp(text)\n",
        "    return(clf.predict([doc.vector])[0])"
      ],
      "metadata": {
        "id": "gDXLpyjDqYst"
      },
      "execution_count": 13,
      "outputs": []
    },
    {
      "cell_type": "code",
      "source": [
        "responses_ml = {\n",
        "    \"dinner_preference\":\"Pasta with salmon and red pesto please!\",\n",
        "    \"arrival_time\": \"I will be home around 6 pm.\",\n",
        "    \"default\":\"I like you too!\"\n",
        "}\n",
        "\n",
        "def respond_ml(text):\n",
        "    response = responses_ml.get(get_intent_ml(text), responses_ml[\"default\"])\n",
        "    return(output_format.format(input=text, output=response))"
      ],
      "metadata": {
        "id": "UrLyZt2xq0kq"
      },
      "execution_count": 20,
      "outputs": []
    },
    {
      "cell_type": "code",
      "source": [
        "print(respond_ml(\"what would you like to eat tonight?\"))\n",
        "print(respond_ml(\"what time will you be home tonight?\"))\n",
        "print(respond_ml(\"you like to eat\"))"
      ],
      "metadata": {
        "colab": {
          "base_uri": "https://localhost:8080/"
        },
        "id": "u_p7M1zEsaS6",
        "outputId": "8b49eaa7-e3b6-46d1-d954-6dc00f794bce"
      },
      "execution_count": 23,
      "outputs": [
        {
          "output_type": "stream",
          "name": "stdout",
          "text": [
            "IN: what would you like to eat tonight?\n",
            "OUT: Pasta with salmon and red pesto please!\n",
            "__________________________________________________\n",
            "IN: what time will you be home tonight?\n",
            "OUT: I will be home around 6 pm.\n",
            "__________________________________________________\n",
            "IN: you like to eat\n",
            "OUT: Pasta with salmon and red pesto please!\n",
            "__________________________________________________\n"
          ]
        }
      ]
    },
    {
      "cell_type": "code",
      "source": [
        "def get_intent_ml_2(text):\n",
        "    \"\"\"\n",
        "        Returns the intent from a given text, unless the model is not sure, in which case 'default' is returned\n",
        "    \"\"\"\n",
        "    doc = nlp(text)\n",
        "    max_proba = max(clf.predict_proba([doc.vector])[0])\n",
        "    if(max_proba == 0.5):\n",
        "        return('default')\n",
        "    else:\n",
        "        return(clf.predict([doc.vector])[0])\n",
        "\n",
        "def respond_ml_2(text):\n",
        "    response = responses_ml.get(get_intent_ml_2(text), responses_ml[\"default\"])\n",
        "    return(output_format.format(input=text, output=response))"
      ],
      "metadata": {
        "id": "N-8lsyrmsdXF"
      },
      "execution_count": 31,
      "outputs": []
    },
    {
      "cell_type": "code",
      "source": [
        "print(respond_ml_2('flowers'))"
      ],
      "metadata": {
        "colab": {
          "base_uri": "https://localhost:8080/"
        },
        "id": "kTokWcf7yVVf",
        "outputId": "7457c6bc-87dd-4712-aae0-eba28d57526e"
      },
      "execution_count": 32,
      "outputs": [
        {
          "output_type": "stream",
          "name": "stdout",
          "text": [
            "IN: flowers\n",
            "OUT: I will be home around 6 pm.\n",
            "__________________________________________________\n"
          ]
        }
      ]
    },
    {
      "cell_type": "code",
      "source": [
        "def get_all_entities(text):\n",
        "    \"\"\"\n",
        "        Get all entities in a given text, in a text: label_ dictionary\n",
        "    \"\"\"\n",
        "    doc = nlp(text)\n",
        "    \n",
        "    d = defaultdict(list)\n",
        "    for ent in doc.ents:\n",
        "        d[ent.label_].append(ent.text)\n",
        "    return(d)"
      ],
      "metadata": {
        "id": "21d1kiO3yYkg"
      },
      "execution_count": 33,
      "outputs": []
    },
    {
      "cell_type": "code",
      "source": [
        "test_ents = get_all_entities('what would you like to eat tonight?, or next tuesday or wednesday fish football Bengals')\n",
        "print(sorted(test_ents.items()))"
      ],
      "metadata": {
        "colab": {
          "base_uri": "https://localhost:8080/"
        },
        "id": "mtob-E6w1wDc",
        "outputId": "63ebc3b7-50e2-4923-bfdb-b73d4611aff0"
      },
      "execution_count": 34,
      "outputs": [
        {
          "output_type": "stream",
          "name": "stdout",
          "text": [
            "[('DATE', ['next tuesday', 'wednesday']), ('TIME', ['tonight'])]\n"
          ]
        }
      ]
    },
    {
      "cell_type": "code",
      "source": [
        "policy = {\n",
        "    (\"dinner_preference\", \"time and date\"): \"I want to eat pasta\",\n",
        "    (\"dinner_preference\", \"time only\"): \"I want to eat pasta\",\n",
        "    (\"dinner_preference\", \"date only\"): \"I want to eat pasta\",\n",
        "    (\"dinner_preference\", \"none\"): \"When?\",\n",
        "    (\"arrival_time\", \"time and date\"): \"I will be home at six\",\n",
        "    (\"arrival_time\", \"time only\"): \"I will be home at six\",\n",
        "    (\"arrival_time\", \"date only\"): \"I will be home at six\",\n",
        "    (\"arrival_time\", \"none\"): \"When?\",\n",
        "    (\"default\", \"none\"): \"What do you want?\",\n",
        "}"
      ],
      "metadata": {
        "id": "tluGV46l1ynx"
      },
      "execution_count": 35,
      "outputs": []
    },
    {
      "cell_type": "code",
      "source": [
        "def respond_ml_3(text):\n",
        "    \"\"\"Check for specification of date and time\n",
        "        If not specified, ask for clarification\n",
        "    \"\"\"\n",
        "    intent = get_intent_ml_2(text)\n",
        "        \n",
        "    if intent != 'default':\n",
        "        entities = get_all_entities(text)\n",
        "        if 'TIME' in entities and 'DATE' in entities:\n",
        "            specification = 'time and date'\n",
        "            time = ' and '.join(entities['DATE']) + ' at ' + ' and '.join(entities['TIME'])\n",
        "        elif 'TIME' in entities:\n",
        "            specification = 'time only'\n",
        "            time = ' and '.join(entities['TIME'])\n",
        "        elif 'DATE' in entities:\n",
        "            specification = 'date only'\n",
        "            time = ' and '.join(entities['DATE'])\n",
        "        else:\n",
        "            specification = 'none'\n",
        "            time = \"\"\n",
        "    else:\n",
        "        specification = 'none'\n",
        "        time = \"\"\n",
        "    \n",
        "    response = policy.get((intent, specification)) + ' ' + time\n",
        "    return(output_format.format(input=text, output=response))"
      ],
      "metadata": {
        "id": "l_cLGxaT12cB"
      },
      "execution_count": 36,
      "outputs": []
    },
    {
      "cell_type": "code",
      "source": [
        "print(respond_ml_3('what would you like to eat next wednesday thursday and friday?'))"
      ],
      "metadata": {
        "colab": {
          "base_uri": "https://localhost:8080/"
        },
        "id": "3w3umtBV17aI",
        "outputId": "e0449609-c66f-4cfe-dbf2-a8724c604399"
      },
      "execution_count": 37,
      "outputs": [
        {
          "output_type": "stream",
          "name": "stdout",
          "text": [
            "IN: what would you like to eat next wednesday thursday and friday?\n",
            "OUT: I want to eat pasta next wednesday and thursday and friday\n",
            "__________________________________________________\n"
          ]
        }
      ]
    },
    {
      "cell_type": "code",
      "source": [],
      "metadata": {
        "id": "t3Nd6YQh1-T8"
      },
      "execution_count": null,
      "outputs": []
    }
  ]
}